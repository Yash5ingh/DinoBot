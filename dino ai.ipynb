{
 "cells": [
  {
   "cell_type": "code",
   "execution_count": 4,
   "id": "e196599e",
   "metadata": {},
   "outputs": [],
   "source": [
    "import cv2\n",
    "import numpy as np\n",
    "import matplotlib.pyplot as plt\n",
    "from time import sleep\n",
    "import pyautogui as gui\n",
    "import keyboard as kyb"
   ]
  },
  {
   "cell_type": "code",
   "execution_count": null,
   "id": "4efdf686",
   "metadata": {},
   "outputs": [],
   "source": []
  },
  {
   "cell_type": "code",
   "execution_count": 19,
   "id": "adfa1c12",
   "metadata": {},
   "outputs": [
    {
     "data": {
      "text/plain": [
       "Point(x=980, y=417)"
      ]
     },
     "execution_count": 19,
     "metadata": {},
     "output_type": "execute_result"
    }
   ],
   "source": [
    "gui.position()"
   ]
  },
  {
   "cell_type": "code",
   "execution_count": 20,
   "id": "5ca06831",
   "metadata": {},
   "outputs": [
    {
     "data": {
      "text/plain": [
       "<matplotlib.image.AxesImage at 0x178e67ffd90>"
      ]
     },
     "execution_count": 20,
     "metadata": {},
     "output_type": "execute_result"
    },
    {
     "data": {
      "image/png": "[encoded data removed]",
      "text/plain": [
       "<Figure size 640x480 with 1 Axes>"
      ]
     },
     "metadata": {},
     "output_type": "display_data"
    }
   ],
   "source": [
    "scr = gui.screenshot(region = (80,130,540,160))\n",
    "plt.imshow(scr)"
   ]
  },
  {
   "cell_type": "code",
   "execution_count": 21,
   "id": "8a23657a",
   "metadata": {},
   "outputs": [
    {
     "data": {
      "text/plain": [
       "(102, 30)"
      ]
     },
     "execution_count": 21,
     "metadata": {},
     "output_type": "execute_result"
    }
   ],
   "source": [
    "x = np.array([])\n",
    "y = np.array([])\n",
    "counter = 0\n",
    "reg = (80,130,510,150)\n",
    "inpsize = (reg[2]//5,reg[3]//5)\n",
    "inpsize"
   ]
  },
  {
   "cell_type": "code",
   "execution_count": 22,
   "id": "8a27609b",
   "metadata": {},
   "outputs": [
    {
     "data": {
      "text/plain": [
       "array([85, 25], dtype=int32)"
      ]
     },
     "execution_count": 22,
     "metadata": {},
     "output_type": "execute_result"
    }
   ],
   "source": [
    "scale = 6\n",
    "np.array([reg[2],reg[3]])//scale"
   ]
  },
  {
   "cell_type": "code",
   "execution_count": 51,
   "id": "26d81fea",
   "metadata": {},
   "outputs": [
    {
     "name": "stdout",
     "output_type": "stream",
     "text": [
      "5834 (5834, 30, 102) (5834,)          done\n"
     ]
    }
   ],
   "source": [
    "sleep(3)\n",
    "\n",
    "while True:\n",
    "    sleep(0.000001)\n",
    "    print(f\"\\r{counter} {x.shape} {y.shape}          \",end=\"\")\n",
    "\n",
    "    frame = gui.screenshot(region = reg)\n",
    "    frame = np.array(frame)\n",
    "    frame = cv2.cvtColor(frame,cv2.COLOR_BGR2GRAY)\n",
    "    \n",
    "    if kyb.is_pressed(\"esc\"):\n",
    "        print(\"done\")\n",
    "        break\n",
    "\n",
    "    \n",
    "    if kyb.is_pressed('space'):\n",
    "        if counter == 0:\n",
    "            x = np.array([cv2.resize(frame,inpsize)])\n",
    "            y = np.array([1])\n",
    "            counter+=1\n",
    "            continue\n",
    "        x = np.append(x,np.array([cv2.resize(frame,inpsize)]),axis=0) \n",
    "        y = np.append(y,np.array([1]),axis=0)\n",
    "        counter+=1\n",
    "        \n",
    "    else:\n",
    "        if counter == 0:\n",
    "            x = np.array([cv2.resize(frame,inpsize)])\n",
    "            y = np.array([0])\n",
    "            counter+=1\n",
    "            continue\n",
    "        x = np.append(x,np.array([cv2.resize(frame,inpsize)]),axis=0) \n",
    "        y = np.append(y,np.array([0]),axis=0)\n",
    "        counter+=1\n",
    "        \n"
   ]
  },
  {
   "cell_type": "code",
   "execution_count": 60,
   "id": "be88908e",
   "metadata": {},
   "outputs": [],
   "source": [
    "\n",
    "\n",
    "i = 20"
   ]
  },
  {
   "cell_type": "code",
   "execution_count": 105,
   "id": "a54a17cc",
   "metadata": {},
   "outputs": [
    {
     "name": "stdout",
     "output_type": "stream",
     "text": [
      "1\n",
      "65\n"
     ]
    },
    {
     "data": {
      "image/png": "[encoded data removed]",
      "text/plain": [
       "<Figure size 640x480 with 1 Axes>"
      ]
     },
     "metadata": {},
     "output_type": "display_data"
    }
   ],
   "source": [
    "\n",
    "plt.imshow(x[i,:,:],cmap='gray')\n",
    "print(y[i])\n",
    "i+=1\n",
    "print(i)"
   ]
  },
  {
   "cell_type": "code",
   "execution_count": 54,
   "id": "2f9d7e8b",
   "metadata": {},
   "outputs": [],
   "source": [
    "# x = x[:2100]\n",
    "# y = y[:2100]"
   ]
  },
  {
   "cell_type": "code",
   "execution_count": 55,
   "id": "18d6b127",
   "metadata": {},
   "outputs": [
    {
     "data": {
      "text/plain": [
       "(array([0, 1]), array([4880,  954], dtype=int64))"
      ]
     },
     "execution_count": 55,
     "metadata": {},
     "output_type": "execute_result"
    }
   ],
   "source": [
    "np.unique(y,return_counts=True)"
   ]
  },
  {
   "cell_type": "code",
   "execution_count": 114,
   "id": "096d3ff0",
   "metadata": {},
   "outputs": [],
   "source": [
    "# p = np.random.permutation(y.size)\n",
    "# x = x[p]\n",
    "# y = y[p]"
   ]
  },
  {
   "cell_type": "code",
   "execution_count": 57,
   "id": "4f3b6f5f",
   "metadata": {},
   "outputs": [
    {
     "data": {
      "text/plain": [
       "((5834, 30, 102), (5834,))"
      ]
     },
     "execution_count": 57,
     "metadata": {},
     "output_type": "execute_result"
    }
   ],
   "source": [
    "x.shape, y.shape"
   ]
  },
  {
   "cell_type": "code",
   "execution_count": null,
   "id": "9e25e9df",
   "metadata": {},
   "outputs": [],
   "source": []
  },
  {
   "cell_type": "code",
   "execution_count": 58,
   "id": "19201434",
   "metadata": {},
   "outputs": [],
   "source": [
    "x = x/255"
   ]
  },
  {
   "cell_type": "code",
   "execution_count": 107,
   "id": "61a3fa42",
   "metadata": {},
   "outputs": [
    {
     "data": {
      "text/plain": [
       "(102, 30)"
      ]
     },
     "execution_count": 107,
     "metadata": {},
     "output_type": "execute_result"
    }
   ],
   "source": [
    "inpsize"
   ]
  },
  {
   "cell_type": "code",
   "execution_count": 9,
   "id": "962bb59e",
   "metadata": {},
   "outputs": [],
   "source": [
    "import tensorflow as tf\n",
    "from tensorflow.keras.models import Sequential\n",
    "from tensorflow.keras.layers import Conv2D, MaxPooling2D, Flatten, Dense"
   ]
  },
  {
   "cell_type": "code",
   "execution_count": 10,
   "id": "578e7a4f",
   "metadata": {},
   "outputs": [
    {
     "name": "stdout",
     "output_type": "stream",
     "text": [
      "Model: \"sequential_1\"\n",
      "_________________________________________________________________\n",
      " Layer (type)                Output Shape              Param #   \n",
      "=================================================================\n",
      " conv2d (Conv2D)             (None, 28, 100, 64)       640       \n",
      "                                                                 \n",
      " max_pooling2d (MaxPooling2D  (None, 14, 50, 64)       0         \n",
      " )                                                               \n",
      "                                                                 \n",
      " conv2d_1 (Conv2D)           (None, 12, 48, 64)        36928     \n",
      "                                                                 \n",
      " max_pooling2d_1 (MaxPooling  (None, 6, 24, 64)        0         \n",
      " 2D)                                                             \n",
      "                                                                 \n",
      " conv2d_2 (Conv2D)           (None, 4, 22, 128)        73856     \n",
      "                                                                 \n",
      " max_pooling2d_2 (MaxPooling  (None, 2, 11, 128)       0         \n",
      " 2D)                                                             \n",
      "                                                                 \n",
      " flatten (Flatten)           (None, 2816)              0         \n",
      "                                                                 \n",
      " dense (Dense)               (None, 64)                180288    \n",
      "                                                                 \n",
      " dense_1 (Dense)             (None, 2)                 130       \n",
      "                                                                 \n",
      "=================================================================\n",
      "Total params: 291,842\n",
      "Trainable params: 291,842\n",
      "Non-trainable params: 0\n",
      "_________________________________________________________________\n"
     ]
    }
   ],
   "source": [
    "model = Sequential()\n",
    "model.add(Conv2D(64, (3, 3), activation='leaky_relu', input_shape=(inpsize[1], inpsize[0],1)))\n",
    "model.add(MaxPooling2D((2, 2)))\n",
    "model.add(Conv2D(64, (3, 3), activation='leaky_relu', input_shape=(inpsize[1], inpsize[0],1)))\n",
    "model.add(MaxPooling2D((2, 2)))\n",
    "model.add(Conv2D(128, (3, 3), activation='leaky_relu'))\n",
    "model.add(MaxPooling2D((2, 2)))\n",
    "model.add(Flatten())\n",
    "model.add(Dense(64, activation='leaky_relu'))\n",
    "model.add(Dense(2,activation='softmax'))\n",
    "\n",
    "model.summary()"
   ]
  },
  {
   "cell_type": "code",
   "execution_count": 11,
   "id": "979f8c5b",
   "metadata": {
    "scrolled": false
   },
   "outputs": [],
   "source": [
    "model.compile(\n",
    "    optimizer=tf.optimizers.Adam(learning_rate=0.004),\n",
    "    loss=tf.losses.sparse_categorical_crossentropy,\n",
    "    metrics=['accuracy']\n",
    ")"
   ]
  },
  {
   "cell_type": "code",
   "execution_count": 138,
   "id": "4f208054",
   "metadata": {},
   "outputs": [],
   "source": [
    "model.fit(x, y, batch_size=4, epochs=10,validation_split=.1,shuffle=True)"
   ]
  },
  {
   "cell_type": "code",
   "execution_count": 17,
   "id": "43aaf7a7",
   "metadata": {},
   "outputs": [],
   "source": [
    "i = 400"
   ]
  },
  {
   "cell_type": "code",
   "execution_count": 18,
   "id": "0ac55e3e",
   "metadata": {},
   "outputs": [
    {
     "ename": "IndexError",
     "evalue": "index 400 is out of bounds for axis 0 with size 0",
     "output_type": "error",
     "traceback": [
      "\u001b[1;31m---------------------------------------------------------------------------\u001b[0m",
      "\u001b[1;31mIndexError\u001b[0m                                Traceback (most recent call last)",
      "Cell \u001b[1;32mIn[18], line 1\u001b[0m\n\u001b[1;32m----> 1\u001b[0m pred \u001b[38;5;241m=\u001b[39m model\u001b[38;5;241m.\u001b[39mpredict(np\u001b[38;5;241m.\u001b[39marray([\u001b[43mx\u001b[49m\u001b[43m[\u001b[49m\u001b[43mi\u001b[49m\u001b[43m]\u001b[49m]),verbose\u001b[38;5;241m=\u001b[39m\u001b[38;5;241m0\u001b[39m)\n\u001b[0;32m      2\u001b[0m plt\u001b[38;5;241m.\u001b[39mimshow(x[i,:,:],cmap\u001b[38;5;241m=\u001b[39m\u001b[38;5;124m'\u001b[39m\u001b[38;5;124mgray\u001b[39m\u001b[38;5;124m'\u001b[39m)\n\u001b[0;32m      3\u001b[0m \u001b[38;5;28mprint\u001b[39m(i,y[i],pred,np\u001b[38;5;241m.\u001b[39margmax(pred))\n",
      "\u001b[1;31mIndexError\u001b[0m: index 400 is out of bounds for axis 0 with size 0"
     ]
    }
   ],
   "source": [
    "\n",
    "pred = model.predict(np.array([x[i]]),verbose=0)\n",
    "plt.imshow(x[i,:,:],cmap='gray')\n",
    "print(i,y[i],pred,np.argmax(pred))\n",
    "i+=1"
   ]
  },
  {
   "cell_type": "code",
   "execution_count": null,
   "id": "215db401",
   "metadata": {},
   "outputs": [
    {
     "name": "stdout",
     "output_type": "stream",
     "text": [
      "[[1.0000000e+00 9.1093915e-09]]           "
     ]
    }
   ],
   "source": [
    "gui.click(x=340, y=235,duration=.3)\n",
    "gui.click(x=340, y=635,duration=.2)\n",
    "\n",
    "\n",
    "while True:\n",
    "    frame = gui.screenshot(region = reg)   \n",
    "    frame = cv2.resize(cv2.cvtColor(np.array(frame),cv2.COLOR_BGR2GRAY)/255,inpsize)  \n",
    "    pred = model.predict(np.array([frame]),verbose=0)   \n",
    "    if np.argmax(pred):\n",
    "        gui.hotkey(\"space\")\n",
    "    print(f\"\\r{pred}        \",end=\" \")"
   ]
  },
  {
   "cell_type": "code",
   "execution_count": null,
   "id": "ebbcff4e",
   "metadata": {},
   "outputs": [],
   "source": []
  },
  {
   "cell_type": "code",
   "execution_count": 23,
   "id": "87525001",
   "metadata": {},
   "outputs": [],
   "source": [
    "frame = gui.screenshot(region = reg)\n",
    "frame = cv2.resize(cv2.cvtColor(np.array(frame),cv2.COLOR_BGR2GRAY)/255,inpsize)"
   ]
  },
  {
   "cell_type": "code",
   "execution_count": 24,
   "id": "f01f4b2a",
   "metadata": {},
   "outputs": [
    {
     "data": {
      "text/plain": [
       "<matplotlib.image.AxesImage at 0x178eba75c70>"
      ]
     },
     "execution_count": 24,
     "metadata": {},
     "output_type": "execute_result"
    },
    {
     "data": {
      "image/png": "[encoded data removed]",
      "text/plain": [
       "<Figure size 640x480 with 1 Axes>"
      ]
     },
     "metadata": {},
     "output_type": "display_data"
    }
   ],
   "source": [
    "plt.imshow(frame)"
   ]
  },
  {
   "cell_type": "code",
   "execution_count": 25,
   "id": "ecae86a1",
   "metadata": {},
   "outputs": [
    {
     "ename": "IndexError",
     "evalue": "index 400 is out of bounds for axis 0 with size 0",
     "output_type": "error",
     "traceback": [
      "\u001b[1;31m---------------------------------------------------------------------------\u001b[0m",
      "\u001b[1;31mIndexError\u001b[0m                                Traceback (most recent call last)",
      "Cell \u001b[1;32mIn[25], line 1\u001b[0m\n\u001b[1;32m----> 1\u001b[0m pred \u001b[38;5;241m=\u001b[39m model\u001b[38;5;241m.\u001b[39mpredict(np\u001b[38;5;241m.\u001b[39marray([\u001b[43mx\u001b[49m\u001b[43m[\u001b[49m\u001b[43mi\u001b[49m\u001b[43m]\u001b[49m]),verbose\u001b[38;5;241m=\u001b[39m\u001b[38;5;241m0\u001b[39m)\n\u001b[0;32m      2\u001b[0m ans \u001b[38;5;241m=\u001b[39m np\u001b[38;5;241m.\u001b[39margmax(pred)\n\u001b[0;32m      3\u001b[0m ans,pred\n",
      "\u001b[1;31mIndexError\u001b[0m: index 400 is out of bounds for axis 0 with size 0"
     ]
    }
   ],
   "source": [
    "pred = model.predict(np.array([x[i]]),verbose=0)\n",
    "ans = np.argmax(pred)\n",
    "ans,pred"
   ]
  },
  {
   "cell_type": "code",
   "execution_count": 144,
   "id": "07096ee5",
   "metadata": {},
   "outputs": [],
   "source": [
    "model.save('dinobot.h5')"
   ]
  },
  {
   "cell_type": "code",
   "execution_count": 14,
   "id": "245fb1fc",
   "metadata": {},
   "outputs": [],
   "source": [
    "model = tf.keras.models.load_model('dinobot.h5')"
   ]
  },
  {
   "cell_type": "code",
   "execution_count": null,
   "id": "62d2888a",
   "metadata": {},
   "outputs": [],
   "source": []
  }
 ],
 "metadata": {
  "kernelspec": {
   "display_name": "Python 3 (ipykernel)",
   "language": "python",
   "name": "python3"
  },
  "language_info": {
   "codemirror_mode": {
    "name": "ipython",
    "version": 3
   },
   "file_extension": ".py",
   "mimetype": "text/x-python",
   "name": "python",
   "nbconvert_exporter": "python",
   "pygments_lexer": "ipython3",
   "version": "3.9.5"
  }
 },
 "nbformat": 4,
 "nbformat_minor": 5
}
